{
 "cells": [
  {
   "cell_type": "markdown",
   "metadata": {},
   "source": [
    "## Imports and environments"
   ]
  },
  {
   "cell_type": "code",
   "execution_count": null,
   "metadata": {},
   "outputs": [],
   "source": [
    "%matplotlib inline\n",
    "%env LUNA_DIR=/var/data/mlfzhang/LUNA/data_root\n",
    "from matplotlib import pyplot as plt\n",
    "import simplejson as json\n",
    "import os"
   ]
  },
  {
   "cell_type": "markdown",
   "metadata": {},
   "source": [
    "## Run the session evaluator."
   ]
  },
  {
   "cell_type": "code",
   "execution_count": 3,
   "metadata": {
    "collapsed": true
   },
   "outputs": [],
   "source": [
    "session = \"2017-05-17-no-lung-segmentation\""
   ]
  },
  {
   "cell_type": "code",
   "execution_count": 44,
   "metadata": {},
   "outputs": [],
   "source": [
    "import sys\n",
    "sys.path.insert(0,'unet')"
   ]
  },
  {
   "cell_type": "code",
   "execution_count": null,
   "metadata": {},
   "outputs": [
    {
     "name": "stdout",
     "output_type": "stream",
     "text": [
      "unet configuration loaded from session 2017-05-17-no-lung-segmentation\n",
      "n3d configuration loaded from session 2017-05-17-no-lung-segmentation\n",
      "model loaded from /var/data/mlfzhang/LUNA/data_root/results/2017-05-17-no-lung-segmentation/unet_512_5_fold0.hdf5\n"
     ]
    },
    {
     "name": "stderr",
     "output_type": "stream",
     "text": [
      "/home/mlfzhang/Projects/foo/cancer_venv/lib64/python3.5/site-packages/keras/models.py:281: UserWarning: Error in loading the saved optimizer state. As a result, your model is starting with a freshly initialized optimizer.\n",
      "  warnings.warn('Error in loading the saved optimizer '\n",
      "\r",
      "  0%|          | 0/89 [00:00<?, ?it/s]"
     ]
    },
    {
     "name": "stdout",
     "output_type": "stream",
     "text": [
      "model loaded from checkpoint /var/data/mlfzhang/LUNA/data_root/results/2017-05-17-no-lung-segmentation/m3D_64_2_fold1.hdf5.\n"
     ]
    },
    {
     "name": "stderr",
     "output_type": "stream",
     "text": [
      " 13%|█▎        | 12/89 [02:00<14:09, 11.03s/it]"
     ]
    },
    {
     "name": "stdout",
     "output_type": "stream",
     "text": [
      "case 137763212752154081977261297097: nodule@(x113,y349,z90,d23.8401) detected again at (x114,y352,z97).\n"
     ]
    },
    {
     "name": "stderr",
     "output_type": "stream",
     "text": [
      " 30%|███       | 27/89 [04:38<06:39,  6.45s/it]"
     ]
    },
    {
     "name": "stdout",
     "output_type": "stream",
     "text": [
      "case 213140617640021803112060161074: nodule@(x318,y185,z199,d22.623) detected again at (x315,y185,z204).\n"
     ]
    },
    {
     "name": "stderr",
     "output_type": "stream",
     "text": [
      " 88%|████████▊ | 78/89 [13:12<01:35,  8.72s/it]"
     ]
    },
    {
     "name": "stdout",
     "output_type": "stream",
     "text": [
      "case 716498695101447665580610403574: nodule@(x131,y288,z329,d15.0646) detected again at (x133,y289,z325).\n"
     ]
    },
    {
     "name": "stderr",
     "output_type": "stream",
     "text": [
      "100%|██████████| 89/89 [14:47<00:00,  6.05s/it]\n",
      "  0%|          | 0/89 [00:00<?, ?it/s]"
     ]
    },
    {
     "name": "stdout",
     "output_type": "stream",
     "text": [
      "{'cases': 89,\n",
      " 'evaluation': {'f+': 5, 'f-': 32, 't+': 83, 't-': 20},\n",
      " 'nodule_cases': 67,\n",
      " 'nodules': 112}\n"
     ]
    },
    {
     "name": "stderr",
     "output_type": "stream",
     "text": [
      "100%|██████████| 89/89 [13:11<00:00, 12.90s/it]\n",
      "  0%|          | 0/89 [00:00<?, ?it/s]"
     ]
    },
    {
     "name": "stdout",
     "output_type": "stream",
     "text": [
      "{'cases': 89,\n",
      " 'evaluation': {'f+': 10, 'f-': 33, 't+': 95, 't-': 25},\n",
      " 'nodule_cases': 61,\n",
      " 'nodules': 128}\n"
     ]
    },
    {
     "name": "stderr",
     "output_type": "stream",
     "text": [
      "100%|██████████| 89/89 [15:56<00:00, 11.59s/it]\n",
      "  0%|          | 0/89 [00:00<?, ?it/s]"
     ]
    },
    {
     "name": "stdout",
     "output_type": "stream",
     "text": [
      "{'cases': 89,\n",
      " 'evaluation': {'f+': 8, 'f-': 22, 't+': 106, 't-': 29},\n",
      " 'nodule_cases': 56,\n",
      " 'nodules': 128}\n"
     ]
    },
    {
     "name": "stderr",
     "output_type": "stream",
     "text": [
      " 67%|██████▋   | 60/89 [10:46<05:10, 10.72s/it]"
     ]
    }
   ],
   "source": [
    "from evaluate import Evaluator\n",
    "Evaluator().main([session])"
   ]
  },
  {
   "cell_type": "markdown",
   "metadata": {},
   "source": [
    "## Load and plot results."
   ]
  },
  {
   "cell_type": "code",
   "execution_count": 16,
   "metadata": {},
   "outputs": [
    {
     "name": "stdout",
     "output_type": "stream",
     "text": [
      "{'9': {'evaluation': {'t+': 75, 'f-': 30, 't-': 26, 'f+': 13}, 'cases': 88, 'nodules': 105}, '8': {'evaluation': {'t+': 82, 'f-': 36, 't-': 27, 'f+': 6}, 'cases': 88, 'nodules': 118}, '3': {'evaluation': {'t+': 90, 'f-': 29, 't-': 22, 'f+': 11}, 'cases': 89, 'nodules': 119}, '5': {'evaluation': {'t+': 72, 'f-': 37, 't-': 31, 'f+': 14}, 'cases': 89, 'nodules': 108}, '6': {'evaluation': {'t+': 83, 'f-': 46, 't-': 22, 'f+': 12}, 'cases': 89, 'nodules': 129}, '0': {'evaluation': {'t+': 83, 'f-': 32, 't-': 20, 'f+': 5}, 'cases': 89, 'nodules': 112}, '7': {'evaluation': {'t+': 71, 'f-': 40, 't-': 32, 'f+': 11}, 'cases': 89, 'nodules': 111}, '2': {'evaluation': {'t+': 106, 'f-': 22, 't-': 29, 'f+': 8}, 'cases': 89, 'nodules': 128}, '4': {'evaluation': {'t+': 99, 'f-': 29, 't-': 24, 'f+': 13}, 'cases': 89, 'nodules': 128}, '1': {'evaluation': {'t+': 95, 'f-': 33, 't-': 25, 'f+': 10}, 'cases': 89, 'nodules': 128}}\n"
     ]
    }
   ],
   "source": [
    "evaluation = os.path.join(os.environ['LUNA_DIR'],'results', session,'evaluation.json')\n",
    "evaluation = json.load(open(evaluation,'r'))\n",
    "print(evaluation)"
   ]
  },
  {
   "cell_type": "code",
   "execution_count": 33,
   "metadata": {},
   "outputs": [
    {
     "data": {
      "text/plain": [
       "<matplotlib.legend.Legend at 0x7f94cd35f710>"
      ]
     },
     "execution_count": 33,
     "metadata": {},
     "output_type": "execute_result"
    },
    {
     "data": {
      "image/png": "[encoded data removed]",
      "text/plain": [
       "<matplotlib.figure.Figure at 0x7f94cd07e048>"
      ]
     },
     "metadata": {},
     "output_type": "display_data"
    }
   ],
   "source": [
    "plt.ion()\n",
    "plt.figure()\n",
    "plt.clf()\n",
    "for subset, data in evaluation.items():\n",
    "    tp = data['evaluation']['t+']\n",
    "    tn = data['evaluation']['t-']\n",
    "    fp = data['evaluation']['f+']\n",
    "    fn = data['evaluation']['f-']\n",
    "    tpr = tp / (tp + fn) # True positive rate\n",
    "    fpr = fp / (fp + tn) # false positive rate\n",
    "    plt.plot([fpr], [tpr], marker='*', linestyle=None, label='{}'.format(subset))\n",
    "plt.xlim([0,1])\n",
    "plt.xlabel('false positive rate')\n",
    "plt.ylim([0,1])\n",
    "plt.ylabel('true positive rate')\n",
    "plt.legend()"
   ]
  }
 ],
 "metadata": {
  "kernelspec": {
   "display_name": "Python 3",
   "language": "python",
   "name": "python3"
  },
  "language_info": {
   "codemirror_mode": {
    "name": "ipython",
    "version": 3
   },
   "file_extension": ".py",
   "mimetype": "text/x-python",
   "name": "python",
   "nbconvert_exporter": "python",
   "pygments_lexer": "ipython3",
   "version": "3.5.3"
  }
 },
 "nbformat": 4,
 "nbformat_minor": 2
}
